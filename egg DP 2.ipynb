{
 "cells": [
  {
   "cell_type": "markdown",
   "metadata": {},
   "source": [
    "# 雙蛋問題 動態規劃"
   ]
  },
  {
   "cell_type": "code",
   "execution_count": 1,
   "metadata": {},
   "outputs": [
    {
     "name": "stdout",
     "output_type": "stream",
     "text": [
      "請輸入蛋數 : 2\n",
      "請輸入樓層數 : 100\n",
      "第2丟測試樓層3層\n",
      "第3丟測試樓層6層\n",
      "第4丟測試樓層10層\n",
      "第5丟測試樓層15層\n",
      "第6丟測試樓層21層\n",
      "第7丟測試樓層28層\n",
      "第8丟測試樓層36層\n",
      "第9丟測試樓層45層\n",
      "第10丟測試樓層55層\n",
      "第11丟測試樓層66層\n",
      "第12丟測試樓層78層\n",
      "第13丟測試樓層91層\n",
      "丟14次可以確認樓層\n"
     ]
    }
   ],
   "source": [
    "\n",
    "import math\n",
    "\n",
    "def g(h, m):\n",
    "    if h < 1 and m < 1: return 0\n",
    "\n",
    "    t = math.floor( math.log2( h ) ) + 1 \n",
    "    if m >= t: return t\n",
    "    else:\n",
    "        g_cur = g_pre = [ 1 for i in range(m + 1) ]\n",
    "        g_cur[0] = g_pre[0] = 0\n",
    "\n",
    "        if g_cur[m] >= h: return 1\n",
    "        elif h == 1: return h\n",
    "        else:\n",
    "            for i in range(2, h + 1):\n",
    "                for j in range( m, 1, -1):\n",
    "                    g_cur[j] = g_pre[j - 1] + g_pre[j] + 1\n",
    "                    if g_pre[j] < h and g_cur[j] >= h:\n",
    "                        return i\n",
    "                g_cur[1] = i\n",
    "                if m == 1 and g_cur[1] >= h:\n",
    "                    return i\n",
    "                list2 = g_cur[1]\n",
    "                list3 = g_cur[-1]\n",
    "                list4 = g_cur[:]\n",
    "                #del list2[0]\n",
    "                #del list2[1]\n",
    "                #del list3[0]\n",
    "                #del list3[0]\n",
    "                \n",
    "                print(\"第\"+str (list2) +\"丟\"+ \"測試樓層\"+ str (list3)+\"層\" , end=\"\\n\")\n",
    "                \n",
    "                g_pre = g_cur[:]\n",
    "m = input('請輸入蛋數 : ')\n",
    "h = input('請輸入樓層數 : ')\n",
    "m = int(m)\n",
    "h = int(h) \n",
    "\n",
    "print (\"丟\" + str (g(h, m)) + \"次可以確認樓層\")"
   ]
  },
  {
   "cell_type": "code",
   "execution_count": null,
   "metadata": {},
   "outputs": [],
   "source": []
  }
 ],
 "metadata": {
  "kernelspec": {
   "display_name": "conda_pytorch_p36",
   "language": "python",
   "name": "conda_pytorch_p36"
  },
  "language_info": {
   "codemirror_mode": {
    "name": "ipython",
    "version": 3
   },
   "file_extension": ".py",
   "mimetype": "text/x-python",
   "name": "python",
   "nbconvert_exporter": "python",
   "pygments_lexer": "ipython3",
   "version": "3.6.5"
  }
 },
 "nbformat": 4,
 "nbformat_minor": 4
}
