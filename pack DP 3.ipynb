{
 "cells": [
  {
   "cell_type": "code",
   "execution_count": 1,
   "metadata": {},
   "outputs": [
    {
     "name": "stdout",
     "output_type": "stream",
     "text": [
      "('\\xe7\\xb8\\xbd\\xe5\\x85\\xb1\\xe6\\x9c\\x89', 29, '\\xe5\\x85\\x83')\n",
      "狀態      買取物品  重量   \n",
      "29        Cookie    7         \n",
      "24        Cookie    7         \n",
      "19        Cookie    7         \n",
      "14        Cookie    7         \n",
      "9         Cookie    7         \n",
      "4         Candy     1         \n",
      "3         Candy     1         \n",
      "2         Candy     1         \n",
      "1         Candy     1         \n",
      "----------------------\n",
      "合計      次數\n",
      "Candy     4         \n",
      "Cookie    5         \n",
      "Ice       0         \n",
      "('\\xe6\\x9c\\x80\\xe5\\xa4\\xa7\\xe7\\xb8\\xbd\\xe9\\x87\\x8d\\xe9\\x87\\x8f:', 39, '\\xe5\\x85\\x8b')\n"
     ]
    },
    {
     "data": {
      "text/plain": [
       "<BarContainer object of 3 artists>"
      ]
     },
     "execution_count": 1,
     "metadata": {},
     "output_type": "execute_result"
    }
   ],
   "source": [
    "#!/usr/bin/env python\n",
    "# coding: utf-8\n",
    "\n",
    "# #  背包問題\n",
    "\n",
    "# <img src=\"bag.png\">\n",
    "\n",
    "# ### 1.導入`numpy`&`matplotlib.pyplot`套件並設置參數\n",
    "\n",
    "# * `LIMIT`=目前擁有多少錢 \n",
    "# * `N`=物品種類　ex:`Candy`、`Cookie`、`Ice`\n",
    "# * `MIN`=最小克數\n",
    "\n",
    "# In[1]:\n",
    "\n",
    "\n",
    "import numpy as np \n",
    "import matplotlib.pyplot as plt\n",
    "LIMIT=29      \n",
    "N=3            \n",
    "MIN=1         \n",
    "print(\"總共有\",LIMIT,\"元\")\n",
    "\n",
    "\n",
    "# ### 2.初始化狀態陣列\n",
    "\n",
    "# In[2]:\n",
    "\n",
    "\n",
    "item=[0,0,0,0,0,0,0,0,0]\n",
    "value=[0,0,0,0,0,0,0,0,0]; \n",
    "\n",
    "\n",
    "# In[3]:\n",
    "\n",
    "\n",
    "item=np.zeros((30,), dtype=np.int)   \n",
    "value=np.zeros((30,), dtype=np.int)\n",
    "a = np.array([[\"Candy\", 1, 1],[\"Cookie\",5,7],[\"Ice\", 10, 13]]) \n",
    "\n",
    "\n",
    "# In[4]:\n",
    "\n",
    "\n",
    "for i in range(0,3,1):\n",
    "    for s in range(int(a[i][1]),LIMIT+1,1):\n",
    "        p=s-int(a[i][1])\n",
    "        newvalue = value[p] + int(a[i][2])\n",
    "        if(newvalue > value[s]):\n",
    "            value[s] = newvalue\n",
    "            item[s] = i\n",
    "\n",
    "\n",
    "# In[5]:\n",
    "\n",
    "\n",
    "print(\"狀態      買取物品  重量   \")\n",
    "i=LIMIT\n",
    "pcs=[0,0,0]\n",
    "while(i>=MIN):\n",
    "    pcs[item[i]]+=1\n",
    "    print('%-10s%-10s%-10s' %(i,a[item[i]][0],a[item[i]][2]))\n",
    "    i=i-int(a[item[i]][1])\n",
    "\n",
    "\n",
    "# ### 3.總計買取物品次數&最大總重量\n",
    "\n",
    "# In[6]:\n",
    "\n",
    "\n",
    "print(\"----------------------\")\n",
    "print(\"合計      次數\")\n",
    "for i in range(N):\n",
    "    print('%-10s%-10s' %(a[i][0],pcs[i]))   \n",
    "print(\"最大總重量:\", value[LIMIT],\"克\")\n",
    "\n",
    "\n",
    "# ### 4.可視化結果\n",
    "\n",
    "# In[7]:\n",
    "\n",
    "\n",
    "x = ['Candy','Cookie','Ice']\n",
    "y = [pcs[0],pcs[1],pcs[2]]\n",
    "plt.bar(x, y)\n",
    "\n"
   ]
  },
  {
   "cell_type": "code",
   "execution_count": null,
   "metadata": {},
   "outputs": [],
   "source": []
  },
  {
   "cell_type": "code",
   "execution_count": null,
   "metadata": {},
   "outputs": [],
   "source": []
  }
 ],
 "metadata": {
  "kernelspec": {
   "display_name": "conda_python2",
   "language": "python",
   "name": "conda_python2"
  },
  "language_info": {
   "codemirror_mode": {
    "name": "ipython",
    "version": 2
   },
   "file_extension": ".py",
   "mimetype": "text/x-python",
   "name": "python",
   "nbconvert_exporter": "python",
   "pygments_lexer": "ipython2",
   "version": "2.7.15"
  }
 },
 "nbformat": 4,
 "nbformat_minor": 4
}
